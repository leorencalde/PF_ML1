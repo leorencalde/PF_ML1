{
 "cells": [
  {
   "cell_type": "code",
   "execution_count": 1,
   "metadata": {},
   "outputs": [
    {
     "name": "stdout",
     "output_type": "stream",
     "text": [
      "Coordinates 40.71033477783203°N -73.99308776855469°E\n",
      "Elevation 32.0 m asl\n",
      "Timezone b'America/New_York' b'EDT'\n",
      "Timezone difference to GMT+0 -14400 s\n",
      "                       date  weather_code  temperature_2m_max  \\\n",
      "0 2024-08-09 04:00:00+00:00          65.0              26.431   \n",
      "\n",
      "   temperature_2m_min  apparent_temperature_max  apparent_temperature_min  \\\n",
      "0              21.031                 28.211838                 23.654509   \n",
      "\n",
      "   sunrise  sunset  daylight_duration  sunshine_duration  ...   rain_sum  \\\n",
      "0        0       0       50425.789062        5097.374023  ...  39.599998   \n",
      "\n",
      "   showers_sum  snowfall_sum  precipitation_hours  \\\n",
      "0          0.0           0.0                  4.0   \n",
      "\n",
      "   precipitation_probability_max  wind_speed_10m_max  wind_gusts_10m_max  \\\n",
      "0                          100.0           35.583591           79.559998   \n",
      "\n",
      "   wind_direction_10m_dominant  shortwave_radiation_sum  \\\n",
      "0                   149.095215                    10.57   \n",
      "\n",
      "   et0_fao_evapotranspiration  \n",
      "0                    2.119573  \n",
      "\n",
      "[1 rows x 23 columns]\n"
     ]
    }
   ],
   "source": [
    "import openmeteo_requests\n",
    "\n",
    "import requests_cache\n",
    "import pandas as pd\n",
    "from retry_requests import retry\n",
    "\n",
    "# Setup the Open-Meteo API client with cache and retry on error\n",
    "cache_session = requests_cache.CachedSession('.cache', expire_after = 3600)\n",
    "retry_session = retry(cache_session, retries = 5, backoff_factor = 0.2)\n",
    "openmeteo = openmeteo_requests.Client(session = retry_session)\n",
    "\n",
    "# Make sure all required weather variables are listed here\n",
    "# The order of variables in hourly or daily is important to assign them correctly below\n",
    "url = \"https://api.open-meteo.com/v1/forecast\"\n",
    "params = {\n",
    "\t\"latitude\": 40.7128,\n",
    "\t\"longitude\": -74.006,\n",
    "\t\"daily\": [\"weather_code\", \"temperature_2m_max\", \"temperature_2m_min\", \"apparent_temperature_max\", \"apparent_temperature_min\", \"sunrise\", \"sunset\", \"daylight_duration\", \"sunshine_duration\", \"uv_index_max\", \"uv_index_clear_sky_max\", \"precipitation_sum\", \"rain_sum\", \"showers_sum\", \"snowfall_sum\", \"precipitation_hours\", \"precipitation_probability_max\", \"wind_speed_10m_max\", \"wind_gusts_10m_max\", \"wind_direction_10m_dominant\", \"shortwave_radiation_sum\", \"et0_fao_evapotranspiration\"],\n",
    "\t\"timezone\": \"America/New_York\",\n",
    "\t\"forecast_days\": 1\n",
    "}\n",
    "responses = openmeteo.weather_api(url, params=params)\n",
    "\n",
    "# Process first location. Add a for-loop for multiple locations or weather models\n",
    "response = responses[0]\n",
    "print(f\"Coordinates {response.Latitude()}°N {response.Longitude()}°E\")\n",
    "print(f\"Elevation {response.Elevation()} m asl\")\n",
    "print(f\"Timezone {response.Timezone()} {response.TimezoneAbbreviation()}\")\n",
    "print(f\"Timezone difference to GMT+0 {response.UtcOffsetSeconds()} s\")\n",
    "\n",
    "# Process daily data. The order of variables needs to be the same as requested.\n",
    "daily = response.Daily()\n",
    "daily_weather_code = daily.Variables(0).ValuesAsNumpy()\n",
    "daily_temperature_2m_max = daily.Variables(1).ValuesAsNumpy()\n",
    "daily_temperature_2m_min = daily.Variables(2).ValuesAsNumpy()\n",
    "daily_apparent_temperature_max = daily.Variables(3).ValuesAsNumpy()\n",
    "daily_apparent_temperature_min = daily.Variables(4).ValuesAsNumpy()\n",
    "daily_sunrise = daily.Variables(5).ValuesAsNumpy()\n",
    "daily_sunset = daily.Variables(6).ValuesAsNumpy()\n",
    "daily_daylight_duration = daily.Variables(7).ValuesAsNumpy()\n",
    "daily_sunshine_duration = daily.Variables(8).ValuesAsNumpy()\n",
    "daily_uv_index_max = daily.Variables(9).ValuesAsNumpy()\n",
    "daily_uv_index_clear_sky_max = daily.Variables(10).ValuesAsNumpy()\n",
    "daily_precipitation_sum = daily.Variables(11).ValuesAsNumpy()\n",
    "daily_rain_sum = daily.Variables(12).ValuesAsNumpy()\n",
    "daily_showers_sum = daily.Variables(13).ValuesAsNumpy()\n",
    "daily_snowfall_sum = daily.Variables(14).ValuesAsNumpy()\n",
    "daily_precipitation_hours = daily.Variables(15).ValuesAsNumpy()\n",
    "daily_precipitation_probability_max = daily.Variables(16).ValuesAsNumpy()\n",
    "daily_wind_speed_10m_max = daily.Variables(17).ValuesAsNumpy()\n",
    "daily_wind_gusts_10m_max = daily.Variables(18).ValuesAsNumpy()\n",
    "daily_wind_direction_10m_dominant = daily.Variables(19).ValuesAsNumpy()\n",
    "daily_shortwave_radiation_sum = daily.Variables(20).ValuesAsNumpy()\n",
    "daily_et0_fao_evapotranspiration = daily.Variables(21).ValuesAsNumpy()\n",
    "\n",
    "daily_data = {\"date\": pd.date_range(\n",
    "\tstart = pd.to_datetime(daily.Time(), unit = \"s\", utc = True),\n",
    "\tend = pd.to_datetime(daily.TimeEnd(), unit = \"s\", utc = True),\n",
    "\tfreq = pd.Timedelta(seconds = daily.Interval()),\n",
    "\tinclusive = \"left\"\n",
    ")}\n",
    "daily_data[\"weather_code\"] = daily_weather_code\n",
    "daily_data[\"temperature_2m_max\"] = daily_temperature_2m_max\n",
    "daily_data[\"temperature_2m_min\"] = daily_temperature_2m_min\n",
    "daily_data[\"apparent_temperature_max\"] = daily_apparent_temperature_max\n",
    "daily_data[\"apparent_temperature_min\"] = daily_apparent_temperature_min\n",
    "daily_data[\"sunrise\"] = daily_sunrise\n",
    "daily_data[\"sunset\"] = daily_sunset\n",
    "daily_data[\"daylight_duration\"] = daily_daylight_duration\n",
    "daily_data[\"sunshine_duration\"] = daily_sunshine_duration\n",
    "daily_data[\"uv_index_max\"] = daily_uv_index_max\n",
    "daily_data[\"uv_index_clear_sky_max\"] = daily_uv_index_clear_sky_max\n",
    "daily_data[\"precipitation_sum\"] = daily_precipitation_sum\n",
    "daily_data[\"rain_sum\"] = daily_rain_sum\n",
    "daily_data[\"showers_sum\"] = daily_showers_sum\n",
    "daily_data[\"snowfall_sum\"] = daily_snowfall_sum\n",
    "daily_data[\"precipitation_hours\"] = daily_precipitation_hours\n",
    "daily_data[\"precipitation_probability_max\"] = daily_precipitation_probability_max\n",
    "daily_data[\"wind_speed_10m_max\"] = daily_wind_speed_10m_max\n",
    "daily_data[\"wind_gusts_10m_max\"] = daily_wind_gusts_10m_max\n",
    "daily_data[\"wind_direction_10m_dominant\"] = daily_wind_direction_10m_dominant\n",
    "daily_data[\"shortwave_radiation_sum\"] = daily_shortwave_radiation_sum\n",
    "daily_data[\"et0_fao_evapotranspiration\"] = daily_et0_fao_evapotranspiration\n",
    "\n",
    "daily_dataframe = pd.DataFrame(data = daily_data)\n",
    "print(daily_dataframe)"
   ]
  },
  {
   "cell_type": "code",
   "execution_count": 2,
   "metadata": {},
   "outputs": [
    {
     "data": {
      "text/html": [
       "<div>\n",
       "<style scoped>\n",
       "    .dataframe tbody tr th:only-of-type {\n",
       "        vertical-align: middle;\n",
       "    }\n",
       "\n",
       "    .dataframe tbody tr th {\n",
       "        vertical-align: top;\n",
       "    }\n",
       "\n",
       "    .dataframe thead th {\n",
       "        text-align: right;\n",
       "    }\n",
       "</style>\n",
       "<table border=\"1\" class=\"dataframe\">\n",
       "  <thead>\n",
       "    <tr style=\"text-align: right;\">\n",
       "      <th></th>\n",
       "      <th>date</th>\n",
       "      <th>weather_code</th>\n",
       "      <th>temperature_2m_max</th>\n",
       "      <th>temperature_2m_min</th>\n",
       "      <th>apparent_temperature_max</th>\n",
       "      <th>apparent_temperature_min</th>\n",
       "      <th>sunrise</th>\n",
       "      <th>sunset</th>\n",
       "      <th>daylight_duration</th>\n",
       "      <th>sunshine_duration</th>\n",
       "      <th>...</th>\n",
       "      <th>rain_sum</th>\n",
       "      <th>showers_sum</th>\n",
       "      <th>snowfall_sum</th>\n",
       "      <th>precipitation_hours</th>\n",
       "      <th>precipitation_probability_max</th>\n",
       "      <th>wind_speed_10m_max</th>\n",
       "      <th>wind_gusts_10m_max</th>\n",
       "      <th>wind_direction_10m_dominant</th>\n",
       "      <th>shortwave_radiation_sum</th>\n",
       "      <th>et0_fao_evapotranspiration</th>\n",
       "    </tr>\n",
       "  </thead>\n",
       "  <tbody>\n",
       "    <tr>\n",
       "      <th>0</th>\n",
       "      <td>2024-08-09 04:00:00+00:00</td>\n",
       "      <td>65.0</td>\n",
       "      <td>26.431</td>\n",
       "      <td>21.031</td>\n",
       "      <td>28.211838</td>\n",
       "      <td>23.654509</td>\n",
       "      <td>0</td>\n",
       "      <td>0</td>\n",
       "      <td>50425.789062</td>\n",
       "      <td>5097.374023</td>\n",
       "      <td>...</td>\n",
       "      <td>39.599998</td>\n",
       "      <td>0.0</td>\n",
       "      <td>0.0</td>\n",
       "      <td>4.0</td>\n",
       "      <td>100.0</td>\n",
       "      <td>35.583591</td>\n",
       "      <td>79.559998</td>\n",
       "      <td>149.095215</td>\n",
       "      <td>10.57</td>\n",
       "      <td>2.119573</td>\n",
       "    </tr>\n",
       "  </tbody>\n",
       "</table>\n",
       "<p>1 rows × 23 columns</p>\n",
       "</div>"
      ],
      "text/plain": [
       "                       date  weather_code  temperature_2m_max  \\\n",
       "0 2024-08-09 04:00:00+00:00          65.0              26.431   \n",
       "\n",
       "   temperature_2m_min  apparent_temperature_max  apparent_temperature_min  \\\n",
       "0              21.031                 28.211838                 23.654509   \n",
       "\n",
       "   sunrise  sunset  daylight_duration  sunshine_duration  ...   rain_sum  \\\n",
       "0        0       0       50425.789062        5097.374023  ...  39.599998   \n",
       "\n",
       "   showers_sum  snowfall_sum  precipitation_hours  \\\n",
       "0          0.0           0.0                  4.0   \n",
       "\n",
       "   precipitation_probability_max  wind_speed_10m_max  wind_gusts_10m_max  \\\n",
       "0                          100.0           35.583591           79.559998   \n",
       "\n",
       "   wind_direction_10m_dominant  shortwave_radiation_sum  \\\n",
       "0                   149.095215                    10.57   \n",
       "\n",
       "   et0_fao_evapotranspiration  \n",
       "0                    2.119573  \n",
       "\n",
       "[1 rows x 23 columns]"
      ]
     },
     "execution_count": 2,
     "metadata": {},
     "output_type": "execute_result"
    }
   ],
   "source": [
    "daily_dataframe"
   ]
  },
  {
   "cell_type": "code",
   "execution_count": 3,
   "metadata": {},
   "outputs": [
    {
     "name": "stdout",
     "output_type": "stream",
     "text": [
      "<class 'pandas.core.frame.DataFrame'>\n",
      "RangeIndex: 1 entries, 0 to 0\n",
      "Data columns (total 23 columns):\n",
      " #   Column                         Non-Null Count  Dtype              \n",
      "---  ------                         --------------  -----              \n",
      " 0   date                           1 non-null      datetime64[ns, UTC]\n",
      " 1   weather_code                   1 non-null      float32            \n",
      " 2   temperature_2m_max             1 non-null      float32            \n",
      " 3   temperature_2m_min             1 non-null      float32            \n",
      " 4   apparent_temperature_max       1 non-null      float32            \n",
      " 5   apparent_temperature_min       1 non-null      float32            \n",
      " 6   sunrise                        1 non-null      int64              \n",
      " 7   sunset                         1 non-null      int64              \n",
      " 8   daylight_duration              1 non-null      float32            \n",
      " 9   sunshine_duration              1 non-null      float32            \n",
      " 10  uv_index_max                   1 non-null      float32            \n",
      " 11  uv_index_clear_sky_max         1 non-null      float32            \n",
      " 12  precipitation_sum              1 non-null      float32            \n",
      " 13  rain_sum                       1 non-null      float32            \n",
      " 14  showers_sum                    1 non-null      float32            \n",
      " 15  snowfall_sum                   1 non-null      float32            \n",
      " 16  precipitation_hours            1 non-null      float32            \n",
      " 17  precipitation_probability_max  1 non-null      float32            \n",
      " 18  wind_speed_10m_max             1 non-null      float32            \n",
      " 19  wind_gusts_10m_max             1 non-null      float32            \n",
      " 20  wind_direction_10m_dominant    1 non-null      float32            \n",
      " 21  shortwave_radiation_sum        1 non-null      float32            \n",
      " 22  et0_fao_evapotranspiration     1 non-null      float32            \n",
      "dtypes: datetime64[ns, UTC](1), float32(20), int64(2)\n",
      "memory usage: 236.0 bytes\n"
     ]
    }
   ],
   "source": [
    "daily_dataframe.info()"
   ]
  },
  {
   "cell_type": "code",
   "execution_count": 4,
   "metadata": {},
   "outputs": [],
   "source": [
    "# Extraer solo la fecha (sin la hora) para agrupar por día\n",
    "daily_dataframe['date'] = daily_dataframe['date'].dt.date"
   ]
  },
  {
   "cell_type": "code",
   "execution_count": 5,
   "metadata": {},
   "outputs": [
    {
     "name": "stdout",
     "output_type": "stream",
     "text": [
      "         date  weather_code  temperature_2m_max  temperature_2m_min  \\\n",
      "0  2024-08-09          65.0              26.431              21.031   \n",
      "\n",
      "    rain_sum  snowfall_sum  precipitation_hours  wind_speed_10m_max  \n",
      "0  39.599998           0.0                  4.0           35.583591  \n"
     ]
    }
   ],
   "source": [
    "# Seleccionar solo las columnas deseadas\n",
    "df_weather_filtered = daily_dataframe[['date', 'weather_code', 'temperature_2m_max', 'temperature_2m_min', 'rain_sum', 'snowfall_sum', 'precipitation_hours', 'wind_speed_10m_max']]\n",
    "\n",
    "# Mostrar el DataFrame resultante\n",
    "print(df_weather_filtered)"
   ]
  },
  {
   "cell_type": "code",
   "execution_count": 8,
   "metadata": {},
   "outputs": [
    {
     "name": "stdout",
     "output_type": "stream",
     "text": [
      "<class 'pandas.core.frame.DataFrame'>\n",
      "RangeIndex: 1 entries, 0 to 0\n",
      "Data columns (total 8 columns):\n",
      " #   Column               Non-Null Count  Dtype  \n",
      "---  ------               --------------  -----  \n",
      " 0   date                 1 non-null      object \n",
      " 1   weather_code         1 non-null      float32\n",
      " 2   temperature_2m_max   1 non-null      float32\n",
      " 3   temperature_2m_min   1 non-null      float32\n",
      " 4   rain_sum             1 non-null      float32\n",
      " 5   snowfall_sum         1 non-null      float32\n",
      " 6   precipitation_hours  1 non-null      float32\n",
      " 7   wind_speed_10m_max   1 non-null      float32\n",
      "dtypes: float32(7), object(1)\n",
      "memory usage: 168.0+ bytes\n"
     ]
    }
   ],
   "source": [
    "df_weather_filtered.info()"
   ]
  },
  {
   "cell_type": "code",
   "execution_count": 10,
   "metadata": {},
   "outputs": [],
   "source": [
    "df_weather_filtered.loc[:, 'date'] = pd.to_datetime(df_weather_filtered['date'])"
   ]
  },
  {
   "cell_type": "code",
   "execution_count": 12,
   "metadata": {},
   "outputs": [],
   "source": [
    "df_weather_filtered.to_parquet('dataset_clima_hoy.parquet', index=False)"
   ]
  }
 ],
 "metadata": {
  "kernelspec": {
   "display_name": "Python 3",
   "language": "python",
   "name": "python3"
  },
  "language_info": {
   "codemirror_mode": {
    "name": "ipython",
    "version": 3
   },
   "file_extension": ".py",
   "mimetype": "text/x-python",
   "name": "python",
   "nbconvert_exporter": "python",
   "pygments_lexer": "ipython3",
   "version": "3.12.1"
  }
 },
 "nbformat": 4,
 "nbformat_minor": 2
}
